{
 "cells": [
  {
   "cell_type": "markdown",
   "metadata": {},
   "source": [
    "### Contoh kasus\n",
    "\n",
    "Amira adalah seorang mahasiswa di `Boston University`, setelah selesai kuliah amira ingin pulang ke rumahnya di area `West End`.\n",
    "Ia telah memesan sebuah uber dengan tipe `uber share`, namun ditengah perjalanan amira baru sadar bahwa ia lupa membawa dompet. setelah mengecek di sakunya, amira menemukan uang `$15`, apakah uang amira cukup untuk membayar uber tersebut?\n",
    "\n",
    "### Batasan\n",
    "\n",
    "- Prediksi tarif taxi / taxi online tidak dipengaruhi oleh surge multiplier\n",
    "- Perjalanan pergi dan pulang dianggap sama dan rutenya sama\n",
    "- beberapa fitur tambahan tidak gunakan\n",
    "- masih banyak bug pada program prediksi\n",
    "\n"
   ]
  },
  {
   "cell_type": "markdown",
   "metadata": {},
   "source": [
    "##### Step 1: Import Library"
   ]
  },
  {
   "cell_type": "code",
   "execution_count": 135,
   "metadata": {},
   "outputs": [],
   "source": [
    "import pandas as pd\n",
    "import numpy as np\n",
    "import matplotlib.pyplot as plt\n",
    "import seaborn as sns\n",
    "from sklearn.linear_model import LinearRegression\n",
    "from sklearn.model_selection import train_test_split\n",
    "%matplotlib inline"
   ]
  },
  {
   "cell_type": "markdown",
   "metadata": {},
   "source": [
    "##### Step 2: Load Datasets"
   ]
  },
  {
   "cell_type": "code",
   "execution_count": 136,
   "metadata": {},
   "outputs": [
    {
     "data": {
      "text/html": [
       "<div>\n",
       "<style scoped>\n",
       "    .dataframe tbody tr th:only-of-type {\n",
       "        vertical-align: middle;\n",
       "    }\n",
       "\n",
       "    .dataframe tbody tr th {\n",
       "        vertical-align: top;\n",
       "    }\n",
       "\n",
       "    .dataframe thead th {\n",
       "        text-align: right;\n",
       "    }\n",
       "</style>\n",
       "<table border=\"1\" class=\"dataframe\">\n",
       "  <thead>\n",
       "    <tr style=\"text-align: right;\">\n",
       "      <th></th>\n",
       "      <th>id</th>\n",
       "      <th>timestamp</th>\n",
       "      <th>hour</th>\n",
       "      <th>day</th>\n",
       "      <th>month</th>\n",
       "      <th>datetime</th>\n",
       "      <th>timezone</th>\n",
       "      <th>source</th>\n",
       "      <th>destination</th>\n",
       "      <th>cab_type</th>\n",
       "      <th>...</th>\n",
       "      <th>precipIntensityMax</th>\n",
       "      <th>uvIndexTime</th>\n",
       "      <th>temperatureMin</th>\n",
       "      <th>temperatureMinTime</th>\n",
       "      <th>temperatureMax</th>\n",
       "      <th>temperatureMaxTime</th>\n",
       "      <th>apparentTemperatureMin</th>\n",
       "      <th>apparentTemperatureMinTime</th>\n",
       "      <th>apparentTemperatureMax</th>\n",
       "      <th>apparentTemperatureMaxTime</th>\n",
       "    </tr>\n",
       "  </thead>\n",
       "  <tbody>\n",
       "    <tr>\n",
       "      <th>0</th>\n",
       "      <td>424553bb-7174-41ea-aeb4-fe06d4f4b9d7</td>\n",
       "      <td>1.544953e+09</td>\n",
       "      <td>9</td>\n",
       "      <td>16</td>\n",
       "      <td>12</td>\n",
       "      <td>2018-12-16 09:30:07</td>\n",
       "      <td>America/New_York</td>\n",
       "      <td>Haymarket Square</td>\n",
       "      <td>North Station</td>\n",
       "      <td>Lyft</td>\n",
       "      <td>...</td>\n",
       "      <td>0.1276</td>\n",
       "      <td>1544979600</td>\n",
       "      <td>39.89</td>\n",
       "      <td>1545012000</td>\n",
       "      <td>43.68</td>\n",
       "      <td>1544968800</td>\n",
       "      <td>33.73</td>\n",
       "      <td>1545012000</td>\n",
       "      <td>38.07</td>\n",
       "      <td>1544958000</td>\n",
       "    </tr>\n",
       "    <tr>\n",
       "      <th>1</th>\n",
       "      <td>4bd23055-6827-41c6-b23b-3c491f24e74d</td>\n",
       "      <td>1.543284e+09</td>\n",
       "      <td>2</td>\n",
       "      <td>27</td>\n",
       "      <td>11</td>\n",
       "      <td>2018-11-27 02:00:23</td>\n",
       "      <td>America/New_York</td>\n",
       "      <td>Haymarket Square</td>\n",
       "      <td>North Station</td>\n",
       "      <td>Lyft</td>\n",
       "      <td>...</td>\n",
       "      <td>0.1300</td>\n",
       "      <td>1543251600</td>\n",
       "      <td>40.49</td>\n",
       "      <td>1543233600</td>\n",
       "      <td>47.30</td>\n",
       "      <td>1543251600</td>\n",
       "      <td>36.20</td>\n",
       "      <td>1543291200</td>\n",
       "      <td>43.92</td>\n",
       "      <td>1543251600</td>\n",
       "    </tr>\n",
       "    <tr>\n",
       "      <th>2</th>\n",
       "      <td>981a3613-77af-4620-a42a-0c0866077d1e</td>\n",
       "      <td>1.543367e+09</td>\n",
       "      <td>1</td>\n",
       "      <td>28</td>\n",
       "      <td>11</td>\n",
       "      <td>2018-11-28 01:00:22</td>\n",
       "      <td>America/New_York</td>\n",
       "      <td>Haymarket Square</td>\n",
       "      <td>North Station</td>\n",
       "      <td>Lyft</td>\n",
       "      <td>...</td>\n",
       "      <td>0.1064</td>\n",
       "      <td>1543338000</td>\n",
       "      <td>35.36</td>\n",
       "      <td>1543377600</td>\n",
       "      <td>47.55</td>\n",
       "      <td>1543320000</td>\n",
       "      <td>31.04</td>\n",
       "      <td>1543377600</td>\n",
       "      <td>44.12</td>\n",
       "      <td>1543320000</td>\n",
       "    </tr>\n",
       "    <tr>\n",
       "      <th>3</th>\n",
       "      <td>c2d88af2-d278-4bfd-a8d0-29ca77cc5512</td>\n",
       "      <td>1.543554e+09</td>\n",
       "      <td>4</td>\n",
       "      <td>30</td>\n",
       "      <td>11</td>\n",
       "      <td>2018-11-30 04:53:02</td>\n",
       "      <td>America/New_York</td>\n",
       "      <td>Haymarket Square</td>\n",
       "      <td>North Station</td>\n",
       "      <td>Lyft</td>\n",
       "      <td>...</td>\n",
       "      <td>0.0000</td>\n",
       "      <td>1543507200</td>\n",
       "      <td>34.67</td>\n",
       "      <td>1543550400</td>\n",
       "      <td>45.03</td>\n",
       "      <td>1543510800</td>\n",
       "      <td>30.30</td>\n",
       "      <td>1543550400</td>\n",
       "      <td>38.53</td>\n",
       "      <td>1543510800</td>\n",
       "    </tr>\n",
       "    <tr>\n",
       "      <th>4</th>\n",
       "      <td>e0126e1f-8ca9-4f2e-82b3-50505a09db9a</td>\n",
       "      <td>1.543463e+09</td>\n",
       "      <td>3</td>\n",
       "      <td>29</td>\n",
       "      <td>11</td>\n",
       "      <td>2018-11-29 03:49:20</td>\n",
       "      <td>America/New_York</td>\n",
       "      <td>Haymarket Square</td>\n",
       "      <td>North Station</td>\n",
       "      <td>Lyft</td>\n",
       "      <td>...</td>\n",
       "      <td>0.0001</td>\n",
       "      <td>1543420800</td>\n",
       "      <td>33.10</td>\n",
       "      <td>1543402800</td>\n",
       "      <td>42.18</td>\n",
       "      <td>1543420800</td>\n",
       "      <td>29.11</td>\n",
       "      <td>1543392000</td>\n",
       "      <td>35.75</td>\n",
       "      <td>1543420800</td>\n",
       "    </tr>\n",
       "  </tbody>\n",
       "</table>\n",
       "<p>5 rows × 57 columns</p>\n",
       "</div>"
      ],
      "text/plain": [
       "                                     id     timestamp  hour  day  month  \\\n",
       "0  424553bb-7174-41ea-aeb4-fe06d4f4b9d7  1.544953e+09     9   16     12   \n",
       "1  4bd23055-6827-41c6-b23b-3c491f24e74d  1.543284e+09     2   27     11   \n",
       "2  981a3613-77af-4620-a42a-0c0866077d1e  1.543367e+09     1   28     11   \n",
       "3  c2d88af2-d278-4bfd-a8d0-29ca77cc5512  1.543554e+09     4   30     11   \n",
       "4  e0126e1f-8ca9-4f2e-82b3-50505a09db9a  1.543463e+09     3   29     11   \n",
       "\n",
       "              datetime          timezone            source    destination  \\\n",
       "0  2018-12-16 09:30:07  America/New_York  Haymarket Square  North Station   \n",
       "1  2018-11-27 02:00:23  America/New_York  Haymarket Square  North Station   \n",
       "2  2018-11-28 01:00:22  America/New_York  Haymarket Square  North Station   \n",
       "3  2018-11-30 04:53:02  America/New_York  Haymarket Square  North Station   \n",
       "4  2018-11-29 03:49:20  America/New_York  Haymarket Square  North Station   \n",
       "\n",
       "  cab_type  ... precipIntensityMax uvIndexTime  temperatureMin  \\\n",
       "0     Lyft  ...             0.1276  1544979600           39.89   \n",
       "1     Lyft  ...             0.1300  1543251600           40.49   \n",
       "2     Lyft  ...             0.1064  1543338000           35.36   \n",
       "3     Lyft  ...             0.0000  1543507200           34.67   \n",
       "4     Lyft  ...             0.0001  1543420800           33.10   \n",
       "\n",
       "   temperatureMinTime  temperatureMax  temperatureMaxTime  \\\n",
       "0          1545012000           43.68          1544968800   \n",
       "1          1543233600           47.30          1543251600   \n",
       "2          1543377600           47.55          1543320000   \n",
       "3          1543550400           45.03          1543510800   \n",
       "4          1543402800           42.18          1543420800   \n",
       "\n",
       "   apparentTemperatureMin  apparentTemperatureMinTime  apparentTemperatureMax  \\\n",
       "0                   33.73                  1545012000                   38.07   \n",
       "1                   36.20                  1543291200                   43.92   \n",
       "2                   31.04                  1543377600                   44.12   \n",
       "3                   30.30                  1543550400                   38.53   \n",
       "4                   29.11                  1543392000                   35.75   \n",
       "\n",
       "  apparentTemperatureMaxTime  \n",
       "0                 1544958000  \n",
       "1                 1543251600  \n",
       "2                 1543320000  \n",
       "3                 1543510800  \n",
       "4                 1543420800  \n",
       "\n",
       "[5 rows x 57 columns]"
      ]
     },
     "execution_count": 136,
     "metadata": {},
     "output_type": "execute_result"
    }
   ],
   "source": [
    "# load data\n",
    "dataset = pd.read_csv('rideshare_kaggle.csv')\n",
    "\n",
    "#load 5 data teratas\n",
    "dataset.head()"
   ]
  },
  {
   "cell_type": "code",
   "execution_count": 137,
   "metadata": {},
   "outputs": [
    {
     "data": {
      "text/plain": [
       "Index(['id', 'timestamp', 'hour', 'day', 'month', 'datetime', 'timezone',\n",
       "       'source', 'destination', 'cab_type', 'product_id', 'name', 'price',\n",
       "       'distance', 'surge_multiplier', 'latitude', 'longitude', 'temperature',\n",
       "       'apparentTemperature', 'short_summary', 'long_summary',\n",
       "       'precipIntensity', 'precipProbability', 'humidity', 'windSpeed',\n",
       "       'windGust', 'windGustTime', 'visibility', 'temperatureHigh',\n",
       "       'temperatureHighTime', 'temperatureLow', 'temperatureLowTime',\n",
       "       'apparentTemperatureHigh', 'apparentTemperatureHighTime',\n",
       "       'apparentTemperatureLow', 'apparentTemperatureLowTime', 'icon',\n",
       "       'dewPoint', 'pressure', 'windBearing', 'cloudCover', 'uvIndex',\n",
       "       'visibility.1', 'ozone', 'sunriseTime', 'sunsetTime', 'moonPhase',\n",
       "       'precipIntensityMax', 'uvIndexTime', 'temperatureMin',\n",
       "       'temperatureMinTime', 'temperatureMax', 'temperatureMaxTime',\n",
       "       'apparentTemperatureMin', 'apparentTemperatureMinTime',\n",
       "       'apparentTemperatureMax', 'apparentTemperatureMaxTime'],\n",
       "      dtype='object')"
      ]
     },
     "execution_count": 137,
     "metadata": {},
     "output_type": "execute_result"
    }
   ],
   "source": [
    "# cek nama columns\n",
    "dataset.columns"
   ]
  },
  {
   "cell_type": "code",
   "execution_count": 138,
   "metadata": {},
   "outputs": [
    {
     "data": {
      "text/html": [
       "<div>\n",
       "<style scoped>\n",
       "    .dataframe tbody tr th:only-of-type {\n",
       "        vertical-align: middle;\n",
       "    }\n",
       "\n",
       "    .dataframe tbody tr th {\n",
       "        vertical-align: top;\n",
       "    }\n",
       "\n",
       "    .dataframe thead th {\n",
       "        text-align: right;\n",
       "    }\n",
       "</style>\n",
       "<table border=\"1\" class=\"dataframe\">\n",
       "  <thead>\n",
       "    <tr style=\"text-align: right;\">\n",
       "      <th></th>\n",
       "      <th>distance</th>\n",
       "      <th>product_id</th>\n",
       "      <th>price</th>\n",
       "    </tr>\n",
       "  </thead>\n",
       "  <tbody>\n",
       "    <tr>\n",
       "      <th>0</th>\n",
       "      <td>0.44</td>\n",
       "      <td>lyft_line</td>\n",
       "      <td>5.0</td>\n",
       "    </tr>\n",
       "    <tr>\n",
       "      <th>1</th>\n",
       "      <td>0.44</td>\n",
       "      <td>lyft_premier</td>\n",
       "      <td>11.0</td>\n",
       "    </tr>\n",
       "    <tr>\n",
       "      <th>2</th>\n",
       "      <td>0.44</td>\n",
       "      <td>lyft</td>\n",
       "      <td>7.0</td>\n",
       "    </tr>\n",
       "    <tr>\n",
       "      <th>3</th>\n",
       "      <td>0.44</td>\n",
       "      <td>lyft_luxsuv</td>\n",
       "      <td>26.0</td>\n",
       "    </tr>\n",
       "    <tr>\n",
       "      <th>4</th>\n",
       "      <td>0.44</td>\n",
       "      <td>lyft_plus</td>\n",
       "      <td>9.0</td>\n",
       "    </tr>\n",
       "    <tr>\n",
       "      <th>...</th>\n",
       "      <td>...</td>\n",
       "      <td>...</td>\n",
       "      <td>...</td>\n",
       "    </tr>\n",
       "    <tr>\n",
       "      <th>693066</th>\n",
       "      <td>1.00</td>\n",
       "      <td>6f72dfc5-27f1-42e8-84db-ccc7a75f6969</td>\n",
       "      <td>13.0</td>\n",
       "    </tr>\n",
       "    <tr>\n",
       "      <th>693067</th>\n",
       "      <td>1.00</td>\n",
       "      <td>55c66225-fbe7-4fd5-9072-eab1ece5e23e</td>\n",
       "      <td>9.5</td>\n",
       "    </tr>\n",
       "    <tr>\n",
       "      <th>693068</th>\n",
       "      <td>1.00</td>\n",
       "      <td>8cf7e821-f0d3-49c6-8eba-e679c0ebcf6a</td>\n",
       "      <td>NaN</td>\n",
       "    </tr>\n",
       "    <tr>\n",
       "      <th>693069</th>\n",
       "      <td>1.00</td>\n",
       "      <td>6d318bcc-22a3-4af6-bddd-b409bfce1546</td>\n",
       "      <td>27.0</td>\n",
       "    </tr>\n",
       "    <tr>\n",
       "      <th>693070</th>\n",
       "      <td>1.00</td>\n",
       "      <td>997acbb5-e102-41e1-b155-9df7de0a73f2</td>\n",
       "      <td>10.0</td>\n",
       "    </tr>\n",
       "  </tbody>\n",
       "</table>\n",
       "<p>693071 rows × 3 columns</p>\n",
       "</div>"
      ],
      "text/plain": [
       "        distance                            product_id  price\n",
       "0           0.44                             lyft_line    5.0\n",
       "1           0.44                          lyft_premier   11.0\n",
       "2           0.44                                  lyft    7.0\n",
       "3           0.44                           lyft_luxsuv   26.0\n",
       "4           0.44                             lyft_plus    9.0\n",
       "...          ...                                   ...    ...\n",
       "693066      1.00  6f72dfc5-27f1-42e8-84db-ccc7a75f6969   13.0\n",
       "693067      1.00  55c66225-fbe7-4fd5-9072-eab1ece5e23e    9.5\n",
       "693068      1.00  8cf7e821-f0d3-49c6-8eba-e679c0ebcf6a    NaN\n",
       "693069      1.00  6d318bcc-22a3-4af6-bddd-b409bfce1546   27.0\n",
       "693070      1.00  997acbb5-e102-41e1-b155-9df7de0a73f2   10.0\n",
       "\n",
       "[693071 rows x 3 columns]"
      ]
     },
     "execution_count": 138,
     "metadata": {},
     "output_type": "execute_result"
    }
   ],
   "source": [
    "# membuat dataset baru berdasarkan data yang dibutuhkan\n",
    "df = dataset[['distance','product_id', 'price']]\n",
    "df"
   ]
  },
  {
   "cell_type": "markdown",
   "metadata": {},
   "source": [
    "##### Step 3: Data Cleaning"
   ]
  },
  {
   "cell_type": "code",
   "execution_count": 139,
   "metadata": {},
   "outputs": [
    {
     "data": {
      "text/plain": [
       "array(['lyft_line', 'lyft_premier', 'lyft', 'lyft_luxsuv', 'lyft_plus',\n",
       "       'lyft_lux', '6f72dfc5-27f1-42e8-84db-ccc7a75f6969',\n",
       "       '6c84fd89-3f11-4782-9b50-97c468b19529',\n",
       "       '55c66225-fbe7-4fd5-9072-eab1ece5e23e',\n",
       "       '9a0e7b09-b92b-4c41-9779-2ad22b4d779d',\n",
       "       '6d318bcc-22a3-4af6-bddd-b409bfce1546',\n",
       "       '997acbb5-e102-41e1-b155-9df7de0a73f2',\n",
       "       '8cf7e821-f0d3-49c6-8eba-e679c0ebcf6a'], dtype=object)"
      ]
     },
     "execution_count": 139,
     "metadata": {},
     "output_type": "execute_result"
    }
   ],
   "source": [
    "# memuat nama unik pada column product_id\n",
    "df.product_id.unique()"
   ]
  },
  {
   "cell_type": "code",
   "execution_count": 140,
   "metadata": {},
   "outputs": [
    {
     "data": {
      "text/plain": [
       "product_id                            name        \n",
       "55c66225-fbe7-4fd5-9072-eab1ece5e23e  UberX           55094\n",
       "6c84fd89-3f11-4782-9b50-97c468b19529  Black           55095\n",
       "6d318bcc-22a3-4af6-bddd-b409bfce1546  Black SUV       55096\n",
       "6f72dfc5-27f1-42e8-84db-ccc7a75f6969  UberXL          55096\n",
       "8cf7e821-f0d3-49c6-8eba-e679c0ebcf6a  Taxi            55095\n",
       "997acbb5-e102-41e1-b155-9df7de0a73f2  UberPool        55091\n",
       "9a0e7b09-b92b-4c41-9779-2ad22b4d779d  WAV             55096\n",
       "lyft                                  Lyft            51235\n",
       "lyft_line                             Shared          51233\n",
       "lyft_lux                              Lux Black       51235\n",
       "lyft_luxsuv                           Lux Black XL    51235\n",
       "lyft_plus                             Lyft XL         51235\n",
       "lyft_premier                          Lux             51235\n",
       "Name: product_id, dtype: int64"
      ]
     },
     "execution_count": 140,
     "metadata": {},
     "output_type": "execute_result"
    }
   ],
   "source": [
    "# mengelompokkan data berdasarkan product_id dan name untuk mengecek value yang akan diganti\n",
    "\n",
    "dataset.groupby(['product_id', 'name'])['product_id'].size()"
   ]
  },
  {
   "cell_type": "markdown",
   "metadata": {},
   "source": [
    "    - setelah dicek dan ditelusuri, kode atau value tersebut sebenarnya adalah nama produk dari uber dan taxi"
   ]
  },
  {
   "cell_type": "code",
   "execution_count": 141,
   "metadata": {},
   "outputs": [
    {
     "name": "stderr",
     "output_type": "stream",
     "text": [
      "C:\\Users\\RIZA\\AppData\\Local\\Programs\\Python\\Python39\\lib\\site-packages\\pandas\\core\\generic.py:5516: SettingWithCopyWarning: \n",
      "A value is trying to be set on a copy of a slice from a DataFrame.\n",
      "Try using .loc[row_indexer,col_indexer] = value instead\n",
      "\n",
      "See the caveats in the documentation: https://pandas.pydata.org/pandas-docs/stable/user_guide/indexing.html#returning-a-view-versus-a-copy\n",
      "  self[name] = value\n"
     ]
    }
   ],
   "source": [
    "# mengubah nama product_id yang tidak sesuai menjadi nama yang baru\n",
    "\n",
    "df.product_id = np.where(df.product_id == '8cf7e821-f0d3-49c6-8eba-e679c0ebcf6a', 'taxi', df['product_id'] )\n",
    "df.product_id = np.where(df.product_id == '55c66225-fbe7-4fd5-9072-eab1ece5e23e', 'uber', df['product_id'] )\n",
    "df.product_id = np.where(df.product_id == '6c84fd89-3f11-4782-9b50-97c468b19529', 'uber_lux', df['product_id'] )\n",
    "df.product_id = np.where(df.product_id == '6d318bcc-22a3-4af6-bddd-b409bfce1546', 'uber_luxsuv', df['product_id'] )\n",
    "df.product_id = np.where(df.product_id == '6f72dfc5-27f1-42e8-84db-ccc7a75f6969', 'uber_plus', df['product_id'] )\n",
    "df.product_id = np.where(df.product_id == '997acbb5-e102-41e1-b155-9df7de0a73f2', 'uber_share', df['product_id'] )\n",
    "df.product_id = np.where(df.product_id == '9a0e7b09-b92b-4c41-9779-2ad22b4d779d', 'uber_wav', df['product_id'] )"
   ]
  },
  {
   "cell_type": "code",
   "execution_count": 142,
   "metadata": {},
   "outputs": [
    {
     "name": "stdout",
     "output_type": "stream",
     "text": [
      "<class 'pandas.core.frame.DataFrame'>\n",
      "RangeIndex: 693071 entries, 0 to 693070\n",
      "Data columns (total 3 columns):\n",
      " #   Column      Non-Null Count   Dtype  \n",
      "---  ------      --------------   -----  \n",
      " 0   distance    693071 non-null  float64\n",
      " 1   product_id  693071 non-null  object \n",
      " 2   price       637976 non-null  float64\n",
      "dtypes: float64(2), object(1)\n",
      "memory usage: 15.9+ MB\n"
     ]
    }
   ],
   "source": [
    "# cek info dasar\n",
    "df.info()"
   ]
  },
  {
   "cell_type": "markdown",
   "metadata": {},
   "source": [
    "    terlihat bahwa fitur distance memiliki string type, sehingga harus diganti menjadi float"
   ]
  },
  {
   "cell_type": "code",
   "execution_count": 143,
   "metadata": {},
   "outputs": [],
   "source": [
    "# mengubah tipe data dari distance menjadi float\n",
    "\n",
    "df = df.astype({\"distance\": float, \"product_id\": str})\n",
    "\n",
    "# membulatkan satuan distance menjadi 1 angka dibelakang koma\n",
    "\n",
    "df.distance = np.around(df.distance, decimals=1)"
   ]
  },
  {
   "cell_type": "code",
   "execution_count": 144,
   "metadata": {},
   "outputs": [
    {
     "data": {
      "text/plain": [
       "distance          0\n",
       "product_id        0\n",
       "price         55095\n",
       "dtype: int64"
      ]
     },
     "execution_count": 144,
     "metadata": {},
     "output_type": "execute_result"
    }
   ],
   "source": [
    "# cek missing value\n",
    "df.isnull().sum()"
   ]
  },
  {
   "cell_type": "code",
   "execution_count": 145,
   "metadata": {},
   "outputs": [
    {
     "data": {
      "text/plain": [
       "distance          0\n",
       "product_id        0\n",
       "price         55095\n",
       "dtype: int64"
      ]
     },
     "execution_count": 145,
     "metadata": {},
     "output_type": "execute_result"
    }
   ],
   "source": [
    "df[\n",
    "    (df['product_id'] == 'taxi')\n",
    "].isnull().sum()"
   ]
  },
  {
   "cell_type": "markdown",
   "metadata": {},
   "source": [
    "    - terdapat 55095 missing value dari 693071 total data\n",
    "    - semua data tersebut adalah data dari taxi yang mana tidak memiliki data price sama sekali\n",
    "    - dikarenakan kurangya informasi mengenai data price khususnya taksi, maka data tersebut akan dihapus"
   ]
  },
  {
   "cell_type": "code",
   "execution_count": 146,
   "metadata": {},
   "outputs": [],
   "source": [
    "# menghapus missing value\n",
    "df.dropna(inplace=True)\n",
    "\n",
    "# mengubah nomor index menjadi berurutan\n",
    "df.reset_index(drop=True, inplace=True)"
   ]
  },
  {
   "cell_type": "code",
   "execution_count": 147,
   "metadata": {},
   "outputs": [
    {
     "data": {
      "text/plain": [
       "(637976, 3)"
      ]
     },
     "execution_count": 147,
     "metadata": {},
     "output_type": "execute_result"
    }
   ],
   "source": [
    "# cek ukuran / jumlah data dari dataset yang tersisa\n",
    "df.shape"
   ]
  },
  {
   "cell_type": "markdown",
   "metadata": {},
   "source": [
    "##### Step 4: Eksplorasi Data"
   ]
  },
  {
   "cell_type": "code",
   "execution_count": 148,
   "metadata": {},
   "outputs": [
    {
     "name": "stderr",
     "output_type": "stream",
     "text": [
      "C:\\Users\\RIZA\\AppData\\Local\\Temp\\ipykernel_12824\\894902487.py:4: FutureWarning: Dropping of nuisance columns in DataFrame reductions (with 'numeric_only=None') is deprecated; in a future version this will raise TypeError.  Select only valid columns before calling the reduction.\n",
      "  'price' : [df.median()[1]],\n",
      "C:\\Users\\RIZA\\AppData\\Local\\Temp\\ipykernel_12824\\894902487.py:5: FutureWarning: Dropping of nuisance columns in DataFrame reductions (with 'numeric_only=None') is deprecated; in a future version this will raise TypeError.  Select only valid columns before calling the reduction.\n",
      "  'distance' : [df.median()[0]]\n"
     ]
    },
    {
     "data": {
      "text/html": [
       "<div>\n",
       "<style scoped>\n",
       "    .dataframe tbody tr th:only-of-type {\n",
       "        vertical-align: middle;\n",
       "    }\n",
       "\n",
       "    .dataframe tbody tr th {\n",
       "        vertical-align: top;\n",
       "    }\n",
       "\n",
       "    .dataframe thead th {\n",
       "        text-align: right;\n",
       "    }\n",
       "</style>\n",
       "<table border=\"1\" class=\"dataframe\">\n",
       "  <thead>\n",
       "    <tr style=\"text-align: right;\">\n",
       "      <th></th>\n",
       "      <th>price</th>\n",
       "      <th>distance</th>\n",
       "    </tr>\n",
       "  </thead>\n",
       "  <tbody>\n",
       "    <tr>\n",
       "      <th>median</th>\n",
       "      <td>13.500000</td>\n",
       "      <td>2.200000</td>\n",
       "    </tr>\n",
       "    <tr>\n",
       "      <th>count</th>\n",
       "      <td>637976.000000</td>\n",
       "      <td>637976.000000</td>\n",
       "    </tr>\n",
       "    <tr>\n",
       "      <th>mean</th>\n",
       "      <td>16.545125</td>\n",
       "      <td>2.188403</td>\n",
       "    </tr>\n",
       "    <tr>\n",
       "      <th>std</th>\n",
       "      <td>9.324359</td>\n",
       "      <td>1.136644</td>\n",
       "    </tr>\n",
       "    <tr>\n",
       "      <th>min</th>\n",
       "      <td>2.500000</td>\n",
       "      <td>0.000000</td>\n",
       "    </tr>\n",
       "    <tr>\n",
       "      <th>25%</th>\n",
       "      <td>9.000000</td>\n",
       "      <td>1.300000</td>\n",
       "    </tr>\n",
       "    <tr>\n",
       "      <th>50%</th>\n",
       "      <td>13.500000</td>\n",
       "      <td>2.200000</td>\n",
       "    </tr>\n",
       "    <tr>\n",
       "      <th>75%</th>\n",
       "      <td>22.500000</td>\n",
       "      <td>2.900000</td>\n",
       "    </tr>\n",
       "    <tr>\n",
       "      <th>max</th>\n",
       "      <td>97.500000</td>\n",
       "      <td>7.900000</td>\n",
       "    </tr>\n",
       "  </tbody>\n",
       "</table>\n",
       "</div>"
      ],
      "text/plain": [
       "                price       distance\n",
       "median      13.500000       2.200000\n",
       "count   637976.000000  637976.000000\n",
       "mean        16.545125       2.188403\n",
       "std          9.324359       1.136644\n",
       "min          2.500000       0.000000\n",
       "25%          9.000000       1.300000\n",
       "50%         13.500000       2.200000\n",
       "75%         22.500000       2.900000\n",
       "max         97.500000       7.900000"
      ]
     },
     "execution_count": 148,
     "metadata": {},
     "output_type": "execute_result"
    }
   ],
   "source": [
    "# cek statistic dasar\n",
    "\n",
    "median = {\n",
    "    'price' : [df.median()[1]],\n",
    "    'distance' : [df.median()[0]]\n",
    "}\n",
    "median = pd.DataFrame(median)\n",
    "\n",
    "median\n",
    "desc = df.describe()\n",
    "describe = pd.concat([median, desc], axis=0).rename(index={0:'median'})\n",
    "describe"
   ]
  },
  {
   "cell_type": "markdown",
   "metadata": {},
   "source": [
    "##### Step 5: Data Preprocessing"
   ]
  },
  {
   "cell_type": "code",
   "execution_count": 149,
   "metadata": {},
   "outputs": [],
   "source": [
    "# membuat fungsi untuk mengecek nilai yang menjadi outlier\n",
    "\n",
    "def cek_outlier(df, x):\n",
    "    Q1 = df[x].describe()['25%']\n",
    "    Q3 = df[x].describe()['75%']\n",
    "    IQR = Q3-Q1\n",
    "    return df[(df[x] < Q1-1.5*IQR) | (df[x] > Q3+1.5*IQR)]\n",
    "\n",
    "\n",
    "\n",
    "# membuat fungsi untuk menghapus nilai yang outlier\n",
    "\n",
    "def hapus_outlier(df, x):\n",
    "    \n",
    "    q1 = df[x].quantile(0.25) # 25% percentile\n",
    "    q3 = df[x].quantile(0.75) # 75% percentile\n",
    "    \n",
    "    iqr = q3-q1\n",
    "    bawah  = q1-1.5*iqr\n",
    "    atas = q3+1.5*iqr\n",
    "    \n",
    "    out = df.loc[(df[x] > bawah) & (df[x] < atas)]\n",
    "    return out"
   ]
  },
  {
   "cell_type": "code",
   "execution_count": 150,
   "metadata": {},
   "outputs": [
    {
     "name": "stderr",
     "output_type": "stream",
     "text": [
      "C:\\Users\\RIZA\\AppData\\Local\\Programs\\Python\\Python39\\lib\\site-packages\\seaborn\\_decorators.py:36: FutureWarning: Pass the following variable as a keyword arg: x. From version 0.12, the only valid positional argument will be `data`, and passing other arguments without an explicit keyword will result in an error or misinterpretation.\n",
      "  warnings.warn(\n",
      "C:\\Users\\RIZA\\AppData\\Local\\Programs\\Python\\Python39\\lib\\site-packages\\seaborn\\_decorators.py:36: FutureWarning: Pass the following variable as a keyword arg: x. From version 0.12, the only valid positional argument will be `data`, and passing other arguments without an explicit keyword will result in an error or misinterpretation.\n",
      "  warnings.warn(\n"
     ]
    },
    {
     "data": {
      "image/png": "[encoded data removed]",
      "text/plain": [
       "<Figure size 3600x1152 with 2 Axes>"
      ]
     },
     "metadata": {
      "needs_background": "light"
     },
     "output_type": "display_data"
    }
   ],
   "source": [
    "# cek distribusi data dari distance\n",
    "\n",
    "f  =plt.figure(figsize=(50,16))\n",
    "\n",
    "f.add_subplot(1,2,1)\n",
    "sns.countplot(df.distance)\n",
    "\n",
    "f.add_subplot(1,2,2)\n",
    "sns.boxplot(df.distance)\n",
    "\n",
    "\n",
    "\n",
    "plt.axvline(describe.iloc[-4,-1], color = 'red', label = 'Q1')\n",
    "plt.axvline(describe.iloc[-3,-1], color = 'green', label = 'Q2')\n",
    "plt.axvline(describe.iloc[-2,-1], color = 'blue', label = 'Q3')\n",
    "plt.annotate('Outlier', (describe.iloc[-1,-1],0.1), xytext = (describe.iloc[-1,-1],0.3),\n",
    "             arrowprops = dict(facecolor = 'blue'), fontsize = 30 )\n",
    "\n",
    "plt.show()\n",
    "\n"
   ]
  },
  {
   "cell_type": "code",
   "execution_count": 151,
   "metadata": {},
   "outputs": [
    {
     "data": {
      "text/html": [
       "<div>\n",
       "<style scoped>\n",
       "    .dataframe tbody tr th:only-of-type {\n",
       "        vertical-align: middle;\n",
       "    }\n",
       "\n",
       "    .dataframe tbody tr th {\n",
       "        vertical-align: top;\n",
       "    }\n",
       "\n",
       "    .dataframe thead th {\n",
       "        text-align: right;\n",
       "    }\n",
       "</style>\n",
       "<table border=\"1\" class=\"dataframe\">\n",
       "  <thead>\n",
       "    <tr style=\"text-align: right;\">\n",
       "      <th></th>\n",
       "      <th>distance</th>\n",
       "      <th>product_id</th>\n",
       "      <th>price</th>\n",
       "    </tr>\n",
       "  </thead>\n",
       "  <tbody>\n",
       "    <tr>\n",
       "      <th>476</th>\n",
       "      <td>7.5</td>\n",
       "      <td>uber_wav</td>\n",
       "      <td>16.0</td>\n",
       "    </tr>\n",
       "    <tr>\n",
       "      <th>1811</th>\n",
       "      <td>5.6</td>\n",
       "      <td>uber_share</td>\n",
       "      <td>12.5</td>\n",
       "    </tr>\n",
       "    <tr>\n",
       "      <th>1812</th>\n",
       "      <td>5.6</td>\n",
       "      <td>uber_wav</td>\n",
       "      <td>15.0</td>\n",
       "    </tr>\n",
       "    <tr>\n",
       "      <th>1813</th>\n",
       "      <td>5.6</td>\n",
       "      <td>uber</td>\n",
       "      <td>15.0</td>\n",
       "    </tr>\n",
       "    <tr>\n",
       "      <th>1814</th>\n",
       "      <td>5.6</td>\n",
       "      <td>uber_lux</td>\n",
       "      <td>33.5</td>\n",
       "    </tr>\n",
       "    <tr>\n",
       "      <th>...</th>\n",
       "      <td>...</td>\n",
       "      <td>...</td>\n",
       "      <td>...</td>\n",
       "    </tr>\n",
       "    <tr>\n",
       "      <th>637915</th>\n",
       "      <td>7.4</td>\n",
       "      <td>uber_share</td>\n",
       "      <td>14.5</td>\n",
       "    </tr>\n",
       "    <tr>\n",
       "      <th>637916</th>\n",
       "      <td>7.4</td>\n",
       "      <td>uber_lux</td>\n",
       "      <td>36.0</td>\n",
       "    </tr>\n",
       "    <tr>\n",
       "      <th>637917</th>\n",
       "      <td>7.4</td>\n",
       "      <td>uber_luxsuv</td>\n",
       "      <td>49.5</td>\n",
       "    </tr>\n",
       "    <tr>\n",
       "      <th>637918</th>\n",
       "      <td>7.4</td>\n",
       "      <td>uber</td>\n",
       "      <td>16.0</td>\n",
       "    </tr>\n",
       "    <tr>\n",
       "      <th>637919</th>\n",
       "      <td>7.4</td>\n",
       "      <td>uber_plus</td>\n",
       "      <td>25.5</td>\n",
       "    </tr>\n",
       "  </tbody>\n",
       "</table>\n",
       "<p>8370 rows × 3 columns</p>\n",
       "</div>"
      ],
      "text/plain": [
       "        distance   product_id  price\n",
       "476          7.5     uber_wav   16.0\n",
       "1811         5.6   uber_share   12.5\n",
       "1812         5.6     uber_wav   15.0\n",
       "1813         5.6         uber   15.0\n",
       "1814         5.6     uber_lux   33.5\n",
       "...          ...          ...    ...\n",
       "637915       7.4   uber_share   14.5\n",
       "637916       7.4     uber_lux   36.0\n",
       "637917       7.4  uber_luxsuv   49.5\n",
       "637918       7.4         uber   16.0\n",
       "637919       7.4    uber_plus   25.5\n",
       "\n",
       "[8370 rows x 3 columns]"
      ]
     },
     "execution_count": 151,
     "metadata": {},
     "output_type": "execute_result"
    }
   ],
   "source": [
    "cek_outlier(df, 'distance')"
   ]
  },
  {
   "cell_type": "markdown",
   "metadata": {},
   "source": [
    "    - dapat dilihat bahwa distribusi dari distance lebih mengarah ke skewnes condong kekanan\n",
    "    - terlihat bahwa terdapat 8370 outlier\n",
    "    - data outlier tersebut akan dihapus"
   ]
  },
  {
   "cell_type": "code",
   "execution_count": 152,
   "metadata": {},
   "outputs": [
    {
     "data": {
      "text/html": [
       "<div>\n",
       "<style scoped>\n",
       "    .dataframe tbody tr th:only-of-type {\n",
       "        vertical-align: middle;\n",
       "    }\n",
       "\n",
       "    .dataframe tbody tr th {\n",
       "        vertical-align: top;\n",
       "    }\n",
       "\n",
       "    .dataframe thead th {\n",
       "        text-align: right;\n",
       "    }\n",
       "</style>\n",
       "<table border=\"1\" class=\"dataframe\">\n",
       "  <thead>\n",
       "    <tr style=\"text-align: right;\">\n",
       "      <th></th>\n",
       "      <th>distance</th>\n",
       "      <th>product_id</th>\n",
       "      <th>price</th>\n",
       "    </tr>\n",
       "  </thead>\n",
       "  <tbody>\n",
       "    <tr>\n",
       "      <th>0</th>\n",
       "      <td>0.4</td>\n",
       "      <td>lyft_line</td>\n",
       "      <td>5.0</td>\n",
       "    </tr>\n",
       "    <tr>\n",
       "      <th>1</th>\n",
       "      <td>0.4</td>\n",
       "      <td>lyft_premier</td>\n",
       "      <td>11.0</td>\n",
       "    </tr>\n",
       "    <tr>\n",
       "      <th>2</th>\n",
       "      <td>0.4</td>\n",
       "      <td>lyft</td>\n",
       "      <td>7.0</td>\n",
       "    </tr>\n",
       "    <tr>\n",
       "      <th>3</th>\n",
       "      <td>0.4</td>\n",
       "      <td>lyft_luxsuv</td>\n",
       "      <td>26.0</td>\n",
       "    </tr>\n",
       "    <tr>\n",
       "      <th>4</th>\n",
       "      <td>0.4</td>\n",
       "      <td>lyft_plus</td>\n",
       "      <td>9.0</td>\n",
       "    </tr>\n",
       "    <tr>\n",
       "      <th>...</th>\n",
       "      <td>...</td>\n",
       "      <td>...</td>\n",
       "      <td>...</td>\n",
       "    </tr>\n",
       "    <tr>\n",
       "      <th>637971</th>\n",
       "      <td>1.0</td>\n",
       "      <td>uber_wav</td>\n",
       "      <td>9.5</td>\n",
       "    </tr>\n",
       "    <tr>\n",
       "      <th>637972</th>\n",
       "      <td>1.0</td>\n",
       "      <td>uber_plus</td>\n",
       "      <td>13.0</td>\n",
       "    </tr>\n",
       "    <tr>\n",
       "      <th>637973</th>\n",
       "      <td>1.0</td>\n",
       "      <td>uber</td>\n",
       "      <td>9.5</td>\n",
       "    </tr>\n",
       "    <tr>\n",
       "      <th>637974</th>\n",
       "      <td>1.0</td>\n",
       "      <td>uber_luxsuv</td>\n",
       "      <td>27.0</td>\n",
       "    </tr>\n",
       "    <tr>\n",
       "      <th>637975</th>\n",
       "      <td>1.0</td>\n",
       "      <td>uber_share</td>\n",
       "      <td>10.0</td>\n",
       "    </tr>\n",
       "  </tbody>\n",
       "</table>\n",
       "<p>628814 rows × 3 columns</p>\n",
       "</div>"
      ],
      "text/plain": [
       "        distance    product_id  price\n",
       "0            0.4     lyft_line    5.0\n",
       "1            0.4  lyft_premier   11.0\n",
       "2            0.4          lyft    7.0\n",
       "3            0.4   lyft_luxsuv   26.0\n",
       "4            0.4     lyft_plus    9.0\n",
       "...          ...           ...    ...\n",
       "637971       1.0      uber_wav    9.5\n",
       "637972       1.0     uber_plus   13.0\n",
       "637973       1.0          uber    9.5\n",
       "637974       1.0   uber_luxsuv   27.0\n",
       "637975       1.0    uber_share   10.0\n",
       "\n",
       "[628814 rows x 3 columns]"
      ]
     },
     "execution_count": 152,
     "metadata": {},
     "output_type": "execute_result"
    }
   ],
   "source": [
    "# menghapus data outlier\n",
    "\n",
    "hapus_outlier(df,'distance')"
   ]
  },
  {
   "cell_type": "markdown",
   "metadata": {},
   "source": [
    "    jumlah data yang tersisa adalah 628814"
   ]
  },
  {
   "cell_type": "code",
   "execution_count": 153,
   "metadata": {},
   "outputs": [
    {
     "name": "stderr",
     "output_type": "stream",
     "text": [
      "C:\\Users\\RIZA\\AppData\\Local\\Programs\\Python\\Python39\\lib\\site-packages\\seaborn\\axisgrid.py:2076: UserWarning: The `size` parameter has been renamed to `height`; please update your code.\n",
      "  warnings.warn(msg, UserWarning)\n"
     ]
    },
    {
     "data": {
      "text/plain": [
       "<Figure size 1440x2160 with 0 Axes>"
      ]
     },
     "metadata": {},
     "output_type": "display_data"
    },
    {
     "data": {
      "image/png": "[encoded data removed]",
      "text/plain": [
       "<Figure size 360x360 with 1 Axes>"
      ]
     },
     "metadata": {
      "needs_background": "light"
     },
     "output_type": "display_data"
    }
   ],
   "source": [
    "# cek korelasi antara distance dan price\n",
    "\n",
    "plt.figure(figsize=(20,30))\n",
    "sns.pairplot(data=df, x_vars=['distance'], y_vars=['price'], size=5)\n",
    "plt.show()"
   ]
  },
  {
   "cell_type": "code",
   "execution_count": 154,
   "metadata": {},
   "outputs": [
    {
     "name": "stderr",
     "output_type": "stream",
     "text": [
      "C:\\Users\\RIZA\\AppData\\Local\\Temp\\ipykernel_12824\\225170090.py:1: FutureWarning: this method is deprecated in favour of `Styler.format(precision=..)`\n",
      "  df.corr().style.background_gradient().set_precision(2)\n"
     ]
    },
    {
     "data": {
      "text/html": [
       "<style type=\"text/css\">\n",
       "#T_ccb29_row0_col0, #T_ccb29_row1_col1 {\n",
       "  background-color: #023858;\n",
       "  color: #f1f1f1;\n",
       "}\n",
       "#T_ccb29_row0_col1, #T_ccb29_row1_col0 {\n",
       "  background-color: #fff7fb;\n",
       "  color: #000000;\n",
       "}\n",
       "</style>\n",
       "<table id=\"T_ccb29_\">\n",
       "  <thead>\n",
       "    <tr>\n",
       "      <th class=\"blank level0\" >&nbsp;</th>\n",
       "      <th class=\"col_heading level0 col0\" >distance</th>\n",
       "      <th class=\"col_heading level0 col1\" >price</th>\n",
       "    </tr>\n",
       "  </thead>\n",
       "  <tbody>\n",
       "    <tr>\n",
       "      <th id=\"T_ccb29_level0_row0\" class=\"row_heading level0 row0\" >distance</th>\n",
       "      <td id=\"T_ccb29_row0_col0\" class=\"data row0 col0\" >1.00</td>\n",
       "      <td id=\"T_ccb29_row0_col1\" class=\"data row0 col1\" >0.34</td>\n",
       "    </tr>\n",
       "    <tr>\n",
       "      <th id=\"T_ccb29_level0_row1\" class=\"row_heading level0 row1\" >price</th>\n",
       "      <td id=\"T_ccb29_row1_col0\" class=\"data row1 col0\" >0.34</td>\n",
       "      <td id=\"T_ccb29_row1_col1\" class=\"data row1 col1\" >1.00</td>\n",
       "    </tr>\n",
       "  </tbody>\n",
       "</table>\n"
      ],
      "text/plain": [
       "<pandas.io.formats.style.Styler at 0x21421ccdc40>"
      ]
     },
     "execution_count": 154,
     "metadata": {},
     "output_type": "execute_result"
    }
   ],
   "source": [
    "df.corr().style.background_gradient().set_precision(2)"
   ]
  },
  {
   "cell_type": "markdown",
   "metadata": {},
   "source": [
    "    - dari chart, dapat di lihat bahwa korelasi antara distance dan price condong kearah kanan atas\n",
    "    - namun, berdasarkan tabel korelasi, didapatkan bahwa korelasi antara distance dan price hanya 0.34, yang \n",
    "      berarti bahwa korelasi diantara keduanya sangat kecil bahkan hampir tidak memiliki korelasi"
   ]
  },
  {
   "cell_type": "markdown",
   "metadata": {},
   "source": [
    "##### Step 6: Pendefinisian Model"
   ]
  },
  {
   "cell_type": "code",
   "execution_count": 155,
   "metadata": {},
   "outputs": [],
   "source": [
    "# Membuat model Multiple Linear Regression\n",
    "\n",
    "regressor = LinearRegression()"
   ]
  },
  {
   "cell_type": "markdown",
   "metadata": {},
   "source": [
    "##### Step 7: Pelatihan Model"
   ]
  },
  {
   "cell_type": "code",
   "execution_count": 156,
   "metadata": {},
   "outputs": [],
   "source": [
    "# membagi data menjadi fitur dan label\n",
    "\n",
    "x = df.drop(columns = 'price')\n",
    "y = df['price'].values"
   ]
  },
  {
   "cell_type": "code",
   "execution_count": 157,
   "metadata": {},
   "outputs": [
    {
     "data": {
      "text/html": [
       "<div>\n",
       "<style scoped>\n",
       "    .dataframe tbody tr th:only-of-type {\n",
       "        vertical-align: middle;\n",
       "    }\n",
       "\n",
       "    .dataframe tbody tr th {\n",
       "        vertical-align: top;\n",
       "    }\n",
       "\n",
       "    .dataframe thead th {\n",
       "        text-align: right;\n",
       "    }\n",
       "</style>\n",
       "<table border=\"1\" class=\"dataframe\">\n",
       "  <thead>\n",
       "    <tr style=\"text-align: right;\">\n",
       "      <th></th>\n",
       "      <th>distance</th>\n",
       "      <th>product_id_lyft</th>\n",
       "      <th>product_id_lyft_line</th>\n",
       "      <th>product_id_lyft_lux</th>\n",
       "      <th>product_id_lyft_luxsuv</th>\n",
       "      <th>product_id_lyft_plus</th>\n",
       "      <th>product_id_lyft_premier</th>\n",
       "      <th>product_id_uber</th>\n",
       "      <th>product_id_uber_lux</th>\n",
       "      <th>product_id_uber_luxsuv</th>\n",
       "      <th>product_id_uber_plus</th>\n",
       "      <th>product_id_uber_share</th>\n",
       "      <th>product_id_uber_wav</th>\n",
       "    </tr>\n",
       "  </thead>\n",
       "  <tbody>\n",
       "    <tr>\n",
       "      <th>0</th>\n",
       "      <td>0.4</td>\n",
       "      <td>0</td>\n",
       "      <td>1</td>\n",
       "      <td>0</td>\n",
       "      <td>0</td>\n",
       "      <td>0</td>\n",
       "      <td>0</td>\n",
       "      <td>0</td>\n",
       "      <td>0</td>\n",
       "      <td>0</td>\n",
       "      <td>0</td>\n",
       "      <td>0</td>\n",
       "      <td>0</td>\n",
       "    </tr>\n",
       "    <tr>\n",
       "      <th>1</th>\n",
       "      <td>0.4</td>\n",
       "      <td>0</td>\n",
       "      <td>0</td>\n",
       "      <td>0</td>\n",
       "      <td>0</td>\n",
       "      <td>0</td>\n",
       "      <td>1</td>\n",
       "      <td>0</td>\n",
       "      <td>0</td>\n",
       "      <td>0</td>\n",
       "      <td>0</td>\n",
       "      <td>0</td>\n",
       "      <td>0</td>\n",
       "    </tr>\n",
       "    <tr>\n",
       "      <th>2</th>\n",
       "      <td>0.4</td>\n",
       "      <td>1</td>\n",
       "      <td>0</td>\n",
       "      <td>0</td>\n",
       "      <td>0</td>\n",
       "      <td>0</td>\n",
       "      <td>0</td>\n",
       "      <td>0</td>\n",
       "      <td>0</td>\n",
       "      <td>0</td>\n",
       "      <td>0</td>\n",
       "      <td>0</td>\n",
       "      <td>0</td>\n",
       "    </tr>\n",
       "    <tr>\n",
       "      <th>3</th>\n",
       "      <td>0.4</td>\n",
       "      <td>0</td>\n",
       "      <td>0</td>\n",
       "      <td>0</td>\n",
       "      <td>1</td>\n",
       "      <td>0</td>\n",
       "      <td>0</td>\n",
       "      <td>0</td>\n",
       "      <td>0</td>\n",
       "      <td>0</td>\n",
       "      <td>0</td>\n",
       "      <td>0</td>\n",
       "      <td>0</td>\n",
       "    </tr>\n",
       "    <tr>\n",
       "      <th>4</th>\n",
       "      <td>0.4</td>\n",
       "      <td>0</td>\n",
       "      <td>0</td>\n",
       "      <td>0</td>\n",
       "      <td>0</td>\n",
       "      <td>1</td>\n",
       "      <td>0</td>\n",
       "      <td>0</td>\n",
       "      <td>0</td>\n",
       "      <td>0</td>\n",
       "      <td>0</td>\n",
       "      <td>0</td>\n",
       "      <td>0</td>\n",
       "    </tr>\n",
       "    <tr>\n",
       "      <th>...</th>\n",
       "      <td>...</td>\n",
       "      <td>...</td>\n",
       "      <td>...</td>\n",
       "      <td>...</td>\n",
       "      <td>...</td>\n",
       "      <td>...</td>\n",
       "      <td>...</td>\n",
       "      <td>...</td>\n",
       "      <td>...</td>\n",
       "      <td>...</td>\n",
       "      <td>...</td>\n",
       "      <td>...</td>\n",
       "      <td>...</td>\n",
       "    </tr>\n",
       "    <tr>\n",
       "      <th>637971</th>\n",
       "      <td>1.0</td>\n",
       "      <td>0</td>\n",
       "      <td>0</td>\n",
       "      <td>0</td>\n",
       "      <td>0</td>\n",
       "      <td>0</td>\n",
       "      <td>0</td>\n",
       "      <td>0</td>\n",
       "      <td>0</td>\n",
       "      <td>0</td>\n",
       "      <td>0</td>\n",
       "      <td>0</td>\n",
       "      <td>1</td>\n",
       "    </tr>\n",
       "    <tr>\n",
       "      <th>637972</th>\n",
       "      <td>1.0</td>\n",
       "      <td>0</td>\n",
       "      <td>0</td>\n",
       "      <td>0</td>\n",
       "      <td>0</td>\n",
       "      <td>0</td>\n",
       "      <td>0</td>\n",
       "      <td>0</td>\n",
       "      <td>0</td>\n",
       "      <td>0</td>\n",
       "      <td>1</td>\n",
       "      <td>0</td>\n",
       "      <td>0</td>\n",
       "    </tr>\n",
       "    <tr>\n",
       "      <th>637973</th>\n",
       "      <td>1.0</td>\n",
       "      <td>0</td>\n",
       "      <td>0</td>\n",
       "      <td>0</td>\n",
       "      <td>0</td>\n",
       "      <td>0</td>\n",
       "      <td>0</td>\n",
       "      <td>1</td>\n",
       "      <td>0</td>\n",
       "      <td>0</td>\n",
       "      <td>0</td>\n",
       "      <td>0</td>\n",
       "      <td>0</td>\n",
       "    </tr>\n",
       "    <tr>\n",
       "      <th>637974</th>\n",
       "      <td>1.0</td>\n",
       "      <td>0</td>\n",
       "      <td>0</td>\n",
       "      <td>0</td>\n",
       "      <td>0</td>\n",
       "      <td>0</td>\n",
       "      <td>0</td>\n",
       "      <td>0</td>\n",
       "      <td>0</td>\n",
       "      <td>1</td>\n",
       "      <td>0</td>\n",
       "      <td>0</td>\n",
       "      <td>0</td>\n",
       "    </tr>\n",
       "    <tr>\n",
       "      <th>637975</th>\n",
       "      <td>1.0</td>\n",
       "      <td>0</td>\n",
       "      <td>0</td>\n",
       "      <td>0</td>\n",
       "      <td>0</td>\n",
       "      <td>0</td>\n",
       "      <td>0</td>\n",
       "      <td>0</td>\n",
       "      <td>0</td>\n",
       "      <td>0</td>\n",
       "      <td>0</td>\n",
       "      <td>1</td>\n",
       "      <td>0</td>\n",
       "    </tr>\n",
       "  </tbody>\n",
       "</table>\n",
       "<p>637976 rows × 13 columns</p>\n",
       "</div>"
      ],
      "text/plain": [
       "        distance  product_id_lyft  product_id_lyft_line  product_id_lyft_lux  \\\n",
       "0            0.4                0                     1                    0   \n",
       "1            0.4                0                     0                    0   \n",
       "2            0.4                1                     0                    0   \n",
       "3            0.4                0                     0                    0   \n",
       "4            0.4                0                     0                    0   \n",
       "...          ...              ...                   ...                  ...   \n",
       "637971       1.0                0                     0                    0   \n",
       "637972       1.0                0                     0                    0   \n",
       "637973       1.0                0                     0                    0   \n",
       "637974       1.0                0                     0                    0   \n",
       "637975       1.0                0                     0                    0   \n",
       "\n",
       "        product_id_lyft_luxsuv  product_id_lyft_plus  product_id_lyft_premier  \\\n",
       "0                            0                     0                        0   \n",
       "1                            0                     0                        1   \n",
       "2                            0                     0                        0   \n",
       "3                            1                     0                        0   \n",
       "4                            0                     1                        0   \n",
       "...                        ...                   ...                      ...   \n",
       "637971                       0                     0                        0   \n",
       "637972                       0                     0                        0   \n",
       "637973                       0                     0                        0   \n",
       "637974                       0                     0                        0   \n",
       "637975                       0                     0                        0   \n",
       "\n",
       "        product_id_uber  product_id_uber_lux  product_id_uber_luxsuv  \\\n",
       "0                     0                    0                       0   \n",
       "1                     0                    0                       0   \n",
       "2                     0                    0                       0   \n",
       "3                     0                    0                       0   \n",
       "4                     0                    0                       0   \n",
       "...                 ...                  ...                     ...   \n",
       "637971                0                    0                       0   \n",
       "637972                0                    0                       0   \n",
       "637973                1                    0                       0   \n",
       "637974                0                    0                       1   \n",
       "637975                0                    0                       0   \n",
       "\n",
       "        product_id_uber_plus  product_id_uber_share  product_id_uber_wav  \n",
       "0                          0                      0                    0  \n",
       "1                          0                      0                    0  \n",
       "2                          0                      0                    0  \n",
       "3                          0                      0                    0  \n",
       "4                          0                      0                    0  \n",
       "...                      ...                    ...                  ...  \n",
       "637971                     0                      0                    1  \n",
       "637972                     1                      0                    0  \n",
       "637973                     0                      0                    0  \n",
       "637974                     0                      0                    0  \n",
       "637975                     0                      1                    0  \n",
       "\n",
       "[637976 rows x 13 columns]"
      ]
     },
     "execution_count": 157,
     "metadata": {},
     "output_type": "execute_result"
    }
   ],
   "source": [
    "# proses encoding fitur product_id dengan metode one-hot encoding\n",
    "\n",
    "encoded = pd.get_dummies(x, prefix='product_id')\n",
    "encoded"
   ]
  },
  {
   "cell_type": "code",
   "execution_count": 158,
   "metadata": {},
   "outputs": [
    {
     "data": {
      "text/plain": [
       "array([[0.4, 0. , 1. , ..., 0. , 0. , 0. ],\n",
       "       [0.4, 0. , 0. , ..., 0. , 0. , 0. ],\n",
       "       [0.4, 1. , 0. , ..., 0. , 0. , 0. ],\n",
       "       ...,\n",
       "       [1. , 0. , 0. , ..., 0. , 0. , 0. ],\n",
       "       [1. , 0. , 0. , ..., 0. , 0. , 0. ],\n",
       "       [1. , 0. , 0. , ..., 0. , 1. , 0. ]])"
      ]
     },
     "execution_count": 158,
     "metadata": {},
     "output_type": "execute_result"
    }
   ],
   "source": [
    "# mengambil values dari dataframe endoced\n",
    "\n",
    "X = encoded.values\n",
    "X"
   ]
  },
  {
   "cell_type": "code",
   "execution_count": 159,
   "metadata": {},
   "outputs": [],
   "source": [
    "# Membagi data menjadi the Training set and Test set\n",
    "\n",
    "from sklearn.model_selection import train_test_split\n",
    "x_train, x_test, y_train, y_test = train_test_split(X, y, test_size = 0.2, random_state = 0)"
   ]
  },
  {
   "cell_type": "code",
   "execution_count": 160,
   "metadata": {},
   "outputs": [
    {
     "name": "stdout",
     "output_type": "stream",
     "text": [
      "(510380, 13)\n",
      "(127596, 13)\n",
      "(510380,)\n",
      "(127596,)\n"
     ]
    }
   ],
   "source": [
    "# Cek shape dari data training dan testing\n",
    "\n",
    "print(x_train.shape)\n",
    "print(x_test.shape)\n",
    "print(y_train.shape)\n",
    "print(y_test.shape) "
   ]
  },
  {
   "cell_type": "code",
   "execution_count": 161,
   "metadata": {},
   "outputs": [
    {
     "data": {
      "text/plain": [
       "LinearRegression()"
      ]
     },
     "execution_count": 161,
     "metadata": {},
     "output_type": "execute_result"
    }
   ],
   "source": [
    "# melakukan training pada data train\n",
    "regressor.fit(x_train, y_train)"
   ]
  },
  {
   "cell_type": "markdown",
   "metadata": {},
   "source": [
    "##### Step 8: Evaluasi Model"
   ]
  },
  {
   "cell_type": "code",
   "execution_count": 162,
   "metadata": {},
   "outputs": [
    {
     "name": "stdout",
     "output_type": "stream",
     "text": [
      "[2.83404221e+00 5.05113625e+09 5.05113624e+09 5.05113626e+09\n",
      " 5.05113627e+09 5.05113625e+09 5.05113626e+09 5.05113625e+09\n",
      " 5.05113626e+09 5.05113627e+09 5.05113625e+09 5.05113625e+09\n",
      " 5.05113625e+09]\n",
      "-5051136243.764001\n"
     ]
    }
   ],
   "source": [
    "# cek nilai slope / koefisien (m) dan intercept (b)\n",
    "\n",
    "print(regressor.coef_)\n",
    "print(regressor.intercept_)"
   ]
  },
  {
   "cell_type": "code",
   "execution_count": 163,
   "metadata": {},
   "outputs": [
    {
     "data": {
      "text/html": [
       "<div>\n",
       "<style scoped>\n",
       "    .dataframe tbody tr th:only-of-type {\n",
       "        vertical-align: middle;\n",
       "    }\n",
       "\n",
       "    .dataframe tbody tr th {\n",
       "        vertical-align: top;\n",
       "    }\n",
       "\n",
       "    .dataframe thead th {\n",
       "        text-align: right;\n",
       "    }\n",
       "</style>\n",
       "<table border=\"1\" class=\"dataframe\">\n",
       "  <thead>\n",
       "    <tr style=\"text-align: right;\">\n",
       "      <th></th>\n",
       "      <th>features</th>\n",
       "      <th>coef_value</th>\n",
       "    </tr>\n",
       "  </thead>\n",
       "  <tbody>\n",
       "    <tr>\n",
       "      <th>0</th>\n",
       "      <td>distance</td>\n",
       "      <td>2.834042e+00</td>\n",
       "    </tr>\n",
       "    <tr>\n",
       "      <th>1</th>\n",
       "      <td>product_id_lyft</td>\n",
       "      <td>5.051136e+09</td>\n",
       "    </tr>\n",
       "    <tr>\n",
       "      <th>2</th>\n",
       "      <td>product_id_lyft_line</td>\n",
       "      <td>5.051136e+09</td>\n",
       "    </tr>\n",
       "    <tr>\n",
       "      <th>3</th>\n",
       "      <td>product_id_lyft_lux</td>\n",
       "      <td>5.051136e+09</td>\n",
       "    </tr>\n",
       "    <tr>\n",
       "      <th>4</th>\n",
       "      <td>product_id_lyft_luxsuv</td>\n",
       "      <td>5.051136e+09</td>\n",
       "    </tr>\n",
       "    <tr>\n",
       "      <th>5</th>\n",
       "      <td>product_id_lyft_plus</td>\n",
       "      <td>5.051136e+09</td>\n",
       "    </tr>\n",
       "    <tr>\n",
       "      <th>6</th>\n",
       "      <td>product_id_lyft_premier</td>\n",
       "      <td>5.051136e+09</td>\n",
       "    </tr>\n",
       "    <tr>\n",
       "      <th>7</th>\n",
       "      <td>product_id_uber</td>\n",
       "      <td>5.051136e+09</td>\n",
       "    </tr>\n",
       "    <tr>\n",
       "      <th>8</th>\n",
       "      <td>product_id_uber_lux</td>\n",
       "      <td>5.051136e+09</td>\n",
       "    </tr>\n",
       "    <tr>\n",
       "      <th>9</th>\n",
       "      <td>product_id_uber_luxsuv</td>\n",
       "      <td>5.051136e+09</td>\n",
       "    </tr>\n",
       "    <tr>\n",
       "      <th>10</th>\n",
       "      <td>product_id_uber_plus</td>\n",
       "      <td>5.051136e+09</td>\n",
       "    </tr>\n",
       "    <tr>\n",
       "      <th>11</th>\n",
       "      <td>product_id_uber_share</td>\n",
       "      <td>5.051136e+09</td>\n",
       "    </tr>\n",
       "    <tr>\n",
       "      <th>12</th>\n",
       "      <td>product_id_uber_wav</td>\n",
       "      <td>5.051136e+09</td>\n",
       "    </tr>\n",
       "  </tbody>\n",
       "</table>\n",
       "</div>"
      ],
      "text/plain": [
       "                   features    coef_value\n",
       "0                  distance  2.834042e+00\n",
       "1           product_id_lyft  5.051136e+09\n",
       "2      product_id_lyft_line  5.051136e+09\n",
       "3       product_id_lyft_lux  5.051136e+09\n",
       "4    product_id_lyft_luxsuv  5.051136e+09\n",
       "5      product_id_lyft_plus  5.051136e+09\n",
       "6   product_id_lyft_premier  5.051136e+09\n",
       "7           product_id_uber  5.051136e+09\n",
       "8       product_id_uber_lux  5.051136e+09\n",
       "9    product_id_uber_luxsuv  5.051136e+09\n",
       "10     product_id_uber_plus  5.051136e+09\n",
       "11    product_id_uber_share  5.051136e+09\n",
       "12      product_id_uber_wav  5.051136e+09"
      ]
     },
     "execution_count": 163,
     "metadata": {},
     "output_type": "execute_result"
    }
   ],
   "source": [
    "# memasukkan nilai slope dan intercept ke dictionary agar terlihat rapih\n",
    "\n",
    "coef_dict = {\n",
    "    'features' : encoded.columns,\n",
    "    'coef_value' : regressor.coef_\n",
    "}\n",
    "\n",
    "coef = pd.DataFrame(coef_dict, columns = ['features', 'coef_value'])\n",
    "coef"
   ]
  },
  {
   "cell_type": "code",
   "execution_count": 164,
   "metadata": {},
   "outputs": [],
   "source": [
    "# Memprediksi hasil Test set\n",
    "\n",
    "y_pred = regressor.predict(x_test)"
   ]
  },
  {
   "cell_type": "code",
   "execution_count": 165,
   "metadata": {},
   "outputs": [
    {
     "data": {
      "text/plain": [
       "0.8945528333926609"
      ]
     },
     "execution_count": 165,
     "metadata": {},
     "output_type": "execute_result"
    }
   ],
   "source": [
    "# Cek accuracy score dari model yang telah dibuat menggunakan data test\n",
    "\n",
    "regressor.score(x_test, y_test)"
   ]
  },
  {
   "cell_type": "markdown",
   "metadata": {},
   "source": [
    "    - terlihat bahwa akurasi dari model yang telah dibuat cukup tinggi yaitu, 89,46%"
   ]
  },
  {
   "cell_type": "markdown",
   "metadata": {},
   "source": [
    "SOLUSI PERMASALAHAN"
   ]
  },
  {
   "cell_type": "code",
   "execution_count": 166,
   "metadata": {},
   "outputs": [],
   "source": [
    "#fungsi untuk mengetahui perkiraan biaya dari lokasi awal ke lokasi akhir\n",
    "\n",
    "def letsgo(source, destination, produk):\n",
    "    distance_mean = dataset[\n",
    "        (dataset['source'] == source) &\n",
    "        (dataset['destination'] == destination)\n",
    "    ].groupby(['source','destination'])['distance'].mean()\n",
    "    \n",
    "    \n",
    "    if produk == 'lyft':\n",
    "        print('biaya perjalanan dari',source, 'ke', destination, 'adalah',round(regressor.predict([[distance_mean,1,0,0,0,0,0,0,0,0,0,0,0]])[0],2),'Dollar')\n",
    "    elif produk == 'lyft line':\n",
    "        print('biaya perjalanan dari',source, 'ke', destination, 'adalah',round(regressor.predict([[distance_mean,0,1,0,0,0,0,0,0,0,0,0,0]])[0],2),'Dollar')\n",
    "    elif produk == 'lyft lux':\n",
    "        print('biaya perjalanan dari',source, 'ke', destination, 'adalah',round(regressor.predict([[distance_mean,0,0,1,0,0,0,0,0,0,0,0,0]])[0],2),'Dollar')\n",
    "    elif produk == 'lyft lux suv':\n",
    "        print('biaya perjalanan dari',source, 'ke', destination, 'adalah',round(regressor.predict([[distance_mean,0,0,0,1,0,0,0,0,0,0,0,0]])[0],2),'Dollar')\n",
    "    elif produk == 'lyft plus':\n",
    "        print('biaya perjalanan dari',source, 'ke', destination, 'adalah',round(regressor.predict([[distance_mean,0,0,0,0,1,0,0,0,0,0,0,0]])[0],2),'Dollar')\n",
    "    elif produk == 'lyft premier':\n",
    "        print('biaya perjalanan dari',source, 'ke', destination, 'adalah',round(regressor.predict([[distance_mean,0,0,0,0,0,1,0,0,0,0,0,0]])[0],2),'Dollar')\n",
    "    elif produk == 'uber':\n",
    "        print('biaya perjalanan dari',source, 'ke', destination, 'adalah',round(regressor.predict([[distance_mean,0,0,0,0,0,0,1,0,0,0,0,0]])[0],2),'Dollar')\n",
    "    elif produk == 'uber lux':\n",
    "        print('biaya perjalanan dari',source, 'ke', destination, 'adalah',round(regressor.predict([[distance_mean,0,0,0,0,0,0,0,1,0,0,0,0]])[0],2),'Dollar')\n",
    "    elif produk == 'uber lux suv':\n",
    "        print('biaya perjalanan dari',source, 'ke', destination, 'adalah',round(regressor.predict([[distance_mean,0,0,0,0,0,0,0,0,1,0,0,0]])[0],2),'Dollar')\n",
    "    elif produk == 'uber plus':\n",
    "        print('biaya perjalanan dari',source, 'ke', destination, 'adalah',round(regressor.predict([[distance_mean,0,0,0,0,0,0,0,0,0,1,0,0]])[0],2),'Dollar')\n",
    "    elif produk == 'uber share':\n",
    "        print('biaya perjalanan dari',source, 'ke', destination, 'adalah',round(regressor.predict([[distance_mean,0,0,0,0,0,0,0,0,0,0,1,0]])[0],2),'Dollar')\n",
    "    elif produk == 'uber wav':\n",
    "        print('biaya perjalanan dari',source, 'ke', destination, 'adalah',round(regressor.predict([[distance_mean,0,0,0,0,0,0,0,0,0,0,0,1]])[0],2),'Dollar')\n",
    "    else:\n",
    "        print('tidak ada tipe kendaraan seperti yang anda masukkan')"
   ]
  },
  {
   "cell_type": "code",
   "execution_count": 167,
   "metadata": {},
   "outputs": [],
   "source": [
    "# Membuat tabel arah tujuan untuk bahan prediksi\n",
    "\n",
    "daftar_tujuan = {\n",
    "    'Source' : dataset.source.unique(),\n",
    "    'Destination' : dataset.destination.unique()\n",
    "}\n",
    "PP = pd.DataFrame(daftar_tujuan, columns = ['Source', 'Destination'])"
   ]
  },
  {
   "cell_type": "code",
   "execution_count": 168,
   "metadata": {},
   "outputs": [],
   "source": [
    "# Membuat dataframe untuk nama produk\n",
    "Nama_produk = coef.drop(columns= 'coef_value', index= 0).reset_index(drop = True).rename(columns={'features' : 'Nama Produk' })\n",
    "\n",
    "\n",
    "# Mengganti nama produk agar lebih mudah dibaca\n",
    "Nama_produk['Nama Produk'] = np.where(Nama_produk['Nama Produk'] == 'product_id_lyft', 'lyft', Nama_produk['Nama Produk'])\n",
    "Nama_produk['Nama Produk'] = np.where(Nama_produk['Nama Produk'] == 'product_id_lyft_line', 'lyft line', Nama_produk['Nama Produk'])\n",
    "Nama_produk['Nama Produk'] = np.where(Nama_produk['Nama Produk'] == 'product_id_lyft_lux', 'lyft lux', Nama_produk['Nama Produk'])\n",
    "Nama_produk['Nama Produk'] = np.where(Nama_produk['Nama Produk'] == 'product_id_lyft_luxsuv', 'lyft lux suv', Nama_produk['Nama Produk'])\n",
    "Nama_produk['Nama Produk'] = np.where(Nama_produk['Nama Produk'] == 'product_id_lyft_plus', 'lyft plus', Nama_produk['Nama Produk'])\n",
    "Nama_produk['Nama Produk'] = np.where(Nama_produk['Nama Produk'] == 'product_id_lyft_premier', 'lyft premier', Nama_produk['Nama Produk'])\n",
    "Nama_produk['Nama Produk'] = np.where(Nama_produk['Nama Produk'] == 'product_id_uber', 'uber', Nama_produk['Nama Produk'])\n",
    "Nama_produk['Nama Produk'] = np.where(Nama_produk['Nama Produk'] == 'product_id_uber_lux', 'uber lux', Nama_produk['Nama Produk'])\n",
    "Nama_produk['Nama Produk'] = np.where(Nama_produk['Nama Produk'] == 'product_id_uber_luxsuv', 'uber lux suv', Nama_produk['Nama Produk'])\n",
    "Nama_produk['Nama Produk'] = np.where(Nama_produk['Nama Produk'] == 'product_id_uber_plus', 'uber plus', Nama_produk['Nama Produk'])\n",
    "Nama_produk['Nama Produk'] = np.where(Nama_produk['Nama Produk'] == 'product_id_uber_share', 'uber share', Nama_produk['Nama Produk'])\n",
    "Nama_produk['Nama Produk'] = np.where(Nama_produk['Nama Produk'] == 'product_id_uber_wav', 'uber wav', Nama_produk['Nama Produk'])"
   ]
  },
  {
   "cell_type": "code",
   "execution_count": 169,
   "metadata": {},
   "outputs": [
    {
     "data": {
      "text/html": [
       "<div>\n",
       "<style scoped>\n",
       "    .dataframe tbody tr th:only-of-type {\n",
       "        vertical-align: middle;\n",
       "    }\n",
       "\n",
       "    .dataframe tbody tr th {\n",
       "        vertical-align: top;\n",
       "    }\n",
       "\n",
       "    .dataframe thead th {\n",
       "        text-align: right;\n",
       "    }\n",
       "</style>\n",
       "<table border=\"1\" class=\"dataframe\">\n",
       "  <thead>\n",
       "    <tr style=\"text-align: right;\">\n",
       "      <th></th>\n",
       "      <th>Source</th>\n",
       "      <th>Destination</th>\n",
       "      <th>Nama Produk</th>\n",
       "    </tr>\n",
       "  </thead>\n",
       "  <tbody>\n",
       "    <tr>\n",
       "      <th>0</th>\n",
       "      <td>Haymarket Square</td>\n",
       "      <td>North Station</td>\n",
       "      <td>lyft</td>\n",
       "    </tr>\n",
       "    <tr>\n",
       "      <th>1</th>\n",
       "      <td>Back Bay</td>\n",
       "      <td>Northeastern University</td>\n",
       "      <td>lyft line</td>\n",
       "    </tr>\n",
       "    <tr>\n",
       "      <th>2</th>\n",
       "      <td>North End</td>\n",
       "      <td>West End</td>\n",
       "      <td>lyft lux</td>\n",
       "    </tr>\n",
       "    <tr>\n",
       "      <th>3</th>\n",
       "      <td>North Station</td>\n",
       "      <td>Haymarket Square</td>\n",
       "      <td>lyft lux suv</td>\n",
       "    </tr>\n",
       "    <tr>\n",
       "      <th>4</th>\n",
       "      <td>Beacon Hill</td>\n",
       "      <td>South Station</td>\n",
       "      <td>lyft plus</td>\n",
       "    </tr>\n",
       "    <tr>\n",
       "      <th>5</th>\n",
       "      <td>Boston University</td>\n",
       "      <td>Fenway</td>\n",
       "      <td>lyft premier</td>\n",
       "    </tr>\n",
       "    <tr>\n",
       "      <th>6</th>\n",
       "      <td>Fenway</td>\n",
       "      <td>Theatre District</td>\n",
       "      <td>uber</td>\n",
       "    </tr>\n",
       "    <tr>\n",
       "      <th>7</th>\n",
       "      <td>South Station</td>\n",
       "      <td>Beacon Hill</td>\n",
       "      <td>uber lux</td>\n",
       "    </tr>\n",
       "    <tr>\n",
       "      <th>8</th>\n",
       "      <td>Theatre District</td>\n",
       "      <td>Back Bay</td>\n",
       "      <td>uber lux suv</td>\n",
       "    </tr>\n",
       "    <tr>\n",
       "      <th>9</th>\n",
       "      <td>West End</td>\n",
       "      <td>North End</td>\n",
       "      <td>uber plus</td>\n",
       "    </tr>\n",
       "    <tr>\n",
       "      <th>10</th>\n",
       "      <td>Financial District</td>\n",
       "      <td>Financial District</td>\n",
       "      <td>uber share</td>\n",
       "    </tr>\n",
       "    <tr>\n",
       "      <th>11</th>\n",
       "      <td>Northeastern University</td>\n",
       "      <td>Boston University</td>\n",
       "      <td>uber wav</td>\n",
       "    </tr>\n",
       "  </tbody>\n",
       "</table>\n",
       "</div>"
      ],
      "text/plain": [
       "                     Source              Destination   Nama Produk\n",
       "0          Haymarket Square            North Station          lyft\n",
       "1                  Back Bay  Northeastern University     lyft line\n",
       "2                 North End                 West End      lyft lux\n",
       "3             North Station         Haymarket Square  lyft lux suv\n",
       "4               Beacon Hill            South Station     lyft plus\n",
       "5         Boston University                   Fenway  lyft premier\n",
       "6                    Fenway         Theatre District          uber\n",
       "7             South Station              Beacon Hill      uber lux\n",
       "8          Theatre District                 Back Bay  uber lux suv\n",
       "9                  West End                North End     uber plus\n",
       "10       Financial District       Financial District    uber share\n",
       "11  Northeastern University        Boston University      uber wav"
      ]
     },
     "execution_count": 169,
     "metadata": {},
     "output_type": "execute_result"
    }
   ],
   "source": [
    "# membuat daftar lengkap posisi awal, tujuan, dan jenis produk untuk bahan prediksi\n",
    "\n",
    "daftar = pd.concat([PP, Nama_produk], axis=1)\n",
    "daftar"
   ]
  },
  {
   "cell_type": "markdown",
   "metadata": {},
   "source": [
    "## TOLONG PILIH SALAH SATU DI SETIAP KOLOM"
   ]
  },
  {
   "cell_type": "code",
   "execution_count": 170,
   "metadata": {},
   "outputs": [
    {
     "name": "stdout",
     "output_type": "stream",
     "text": [
      "biaya perjalanan dari Boston University ke West End adalah 11.25 Dollar\n"
     ]
    },
    {
     "name": "stderr",
     "output_type": "stream",
     "text": [
      "C:\\Users\\RIZA\\AppData\\Local\\Programs\\Python\\Python39\\lib\\site-packages\\sklearn\\utils\\validation.py:746: VisibleDeprecationWarning: Creating an ndarray from ragged nested sequences (which is a list-or-tuple of lists-or-tuples-or ndarrays with different lengths or shapes) is deprecated. If you meant to do this, you must specify 'dtype=object' when creating the ndarray.\n",
      "  array = np.asarray(array, order=order, dtype=dtype)\n",
      "C:\\Users\\RIZA\\AppData\\Local\\Programs\\Python\\Python39\\lib\\site-packages\\sklearn\\base.py:566: FutureWarning: Arrays of bytes/strings is being converted to decimal numbers if dtype='numeric'. This behavior is deprecated in 0.24 and will be removed in 1.1 (renaming of 0.26). Please convert your data to numeric values explicitly instead.\n",
      "  X = check_array(X, **check_params)\n"
     ]
    }
   ],
   "source": [
    "letsgo('Boston University', 'West End', 'uber share')"
   ]
  },
  {
   "cell_type": "markdown",
   "metadata": {},
   "source": [
    "# Kesimpulan"
   ]
  },
  {
   "cell_type": "markdown",
   "metadata": {},
   "source": [
    "untuk amira :\n",
    "\n",
    "Dengan uang amira yang berjumlah 15 Dollar, dapat disimpulkan bahwa amira mempunyai cukup uang untuk membayar uber share yang dia tumpangi, dimana biaya total perjalanan amira menggunakan uber share adalah 11.25 Dollar\n",
    "\n",
    "\n",
    "\n",
    "#\n",
    "untuk peneliti :\n",
    "- linear regresi digunakan untuk memprediksi variable dependen, dengan syarat semua fitur harus data numerik\n",
    "- jika ada fitur dengan data kategorikal maka harus diubah menjadi numerik menggunakan metode yang tersedia salah satunya adalah dengan one hot encoding"
   ]
  }
 ],
 "metadata": {
  "interpreter": {
   "hash": "53add34532e09b6e588f47c226c80d977c0c354b211b81066573c325b1bb576f"
  },
  "kernelspec": {
   "display_name": "Python 3.10.0 64-bit",
   "language": "python",
   "name": "python3"
  },
  "language_info": {
   "codemirror_mode": {
    "name": "ipython",
    "version": 3
   },
   "file_extension": ".py",
   "mimetype": "text/x-python",
   "name": "python",
   "nbconvert_exporter": "python",
   "pygments_lexer": "ipython3",
   "version": "3.9.9"
  },
  "orig_nbformat": 4
 },
 "nbformat": 4,
 "nbformat_minor": 2
}
